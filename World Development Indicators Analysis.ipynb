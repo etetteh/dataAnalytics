{
 "cells": [
  {
   "cell_type": "markdown",
   "id": "a046755e-32df-4467-94f7-a43b4626d697",
   "metadata": {},
   "source": [
    "# World Development Indicators Analysis"
   ]
  },
  {
   "cell_type": "markdown",
   "id": "958608e0-3a38-4356-9154-5f4e9bb5cca8",
   "metadata": {},
   "source": [
    "### Load Necessary Libraries\n",
    "#### We only need two here, to perform SQL queries and handle subsequent dataframes"
   ]
  },
  {
   "cell_type": "code",
   "execution_count": null,
   "id": "71b73d53-b51b-4145-90bd-2efa906c3fc6",
   "metadata": {},
   "outputs": [],
   "source": [
    "from pandasql import sqldf\n",
    "import pandas as pd\n"
   ]
  },
  {
   "cell_type": "code",
   "execution_count": null,
   "id": "6d91821f-abbd-4837-a762-496da6c97d94",
   "metadata": {},
   "outputs": [],
   "source": [
    "df = pd.read_csv(\"WDI_csv/WDIData.csv\")\n",
    "df.head(3)"
   ]
  },
  {
   "cell_type": "markdown",
   "id": "07e02ddc-a469-423d-8f96-aec832bea34d",
   "metadata": {},
   "source": [
    "### Pull the columns needed for the this analysis"
   ]
  },
  {
   "cell_type": "code",
   "execution_count": null,
   "id": "494839db-263d-4a76-9656-35ce9b2677ea",
   "metadata": {},
   "outputs": [],
   "source": [
    "q = \"\"\"\n",
    "    SELECT \n",
    "        \"Country Name\", \"Indicator Name\", \"2000\", \"2001\", \"2002\", \"2003\", \"2004\", \"2005\", \"2006\", \"2007\", \"2008\",\n",
    "        \"2009\", \"2010\", \"2011\", \"2012\", \"2013\", \"2014\", \"2015\", \"2016\", \"2017\", \"2018\", \"2019\", \"2020\"\n",
    "    FROM df\n",
    "    ;\n",
    "    \"\"\"\n",
    "\n",
    "df = sqldf(q)\n",
    "df"
   ]
  },
  {
   "cell_type": "markdown",
   "id": "3c7ed7a7-1c1d-4d68-b8af-be71debfbf67",
   "metadata": {},
   "source": [
    "### Pull the Indicators we will be using. These were picked randomly"
   ]
  },
  {
   "cell_type": "code",
   "execution_count": null,
   "id": "9b6050ef-02f2-4828-8782-ba09eda4f8cc",
   "metadata": {},
   "outputs": [],
   "source": [
    "q = \"\"\"\n",
    "    SELECT *\n",
    "    FROM df\n",
    "    WHERE \"Indicator Name\" IN \n",
    "        (\"Population growth (annual %)\"\n",
    "        , \"Urban population growth (annual %)\"\n",
    "        , \"Rural population growth (annual %)\"\n",
    "        , \"GDP per capita (current US$)\"\n",
    "        , \"GDP growth (annual %)\"\n",
    "        , \"Unemployment, total (% of total labor force) (national estimate)\"\n",
    "        , \"Unemployment with basic education (% of total labor force with basic education)\"\n",
    "        , \"Unemployment with basic education, male (% of male labor force with basic education)\"\n",
    "        , \"Unemployment with basic education, female (% of female labor force with basic education)\"\n",
    "        , \"Unemployment with intermediate education (% of total labor force with intermediate education)\"\n",
    "        , \"Unemployment with intermediate education, male (% of male labor force with intermediate education)\"\n",
    "        , \"Unemployment with intermediate education, female (% of female labor force with intermediate education)\"\n",
    "        , \"Unemployment with advanced education (% of total labor force with advanced education)\"\n",
    "        , \"Unemployment with advanced education, male (% of male labor force with advanced education)\"\n",
    "        , \"Unemployment with advanced education, female (% of female labor force with advanced education)\"\n",
    "        , \"Inflation, consumer prices (annual %)\"\n",
    "        , \"Life expectancy at birth, total (years)\"\n",
    "        , \"Electricity production from renewable sources, excluding hydroelectric (% of total)\"\n",
    "        , \"Proportion of seats held by women in national parliaments (%)\"\n",
    "        , \"Research and development expenditure (% of GDP)\"\n",
    "        , \"CO2 emissions (metric tons per capita)\"\n",
    "        , \"Individuals using the Internet (% of population)\"\n",
    "        , \"Mobile cellular subscriptions\"\n",
    "        , \"Number of maternal deaths\"\n",
    "        , \"Number of infant deaths\")\n",
    "    ;\n",
    "    \"\"\"\n",
    "\n",
    "df = sqldf(q)\n",
    "df"
   ]
  },
  {
   "cell_type": "markdown",
   "id": "42e55ae0-bf73-47ec-acd6-22d94d0acd1a",
   "metadata": {},
   "source": [
    "### Create a **Continent** field and group all countries by it"
   ]
  },
  {
   "cell_type": "code",
   "execution_count": null,
   "id": "c3a842ec-c191-498d-8fd6-8ff2f9cf331a",
   "metadata": {},
   "outputs": [],
   "source": [
    "q = \"\"\"\n",
    "    SELECT *,\n",
    "        CASE\n",
    "            WHEN \"Country Name\" IN \n",
    "                (\"Algeria\", \"Angola\", \"Benin\", \"Botswana\", \"Burkina Faso\", \"Burundi\", \"Cameroon\", \"Cape Verde\", \"Central African Republic\", \"Chad\", \n",
    "                 \"Camoros\", \"Democratic Republic of the Congo\", \"Republic of the Congo\", \"Djibouti\", \"Egypt\", \"Equatorial Guinea\", \"Eritrea\", \"Ethiopia\",\n",
    "                 \"Gabon\", \"Gambia\", \"Ghana\", \"Guinea\", \"Guinea-Bissau\", \"Ivory Coast\", \"Kenya\", \"Lesotho\", \"Liberia\",\"Libya\", \"Madagascar\", \"Malawi\", \"Mali\", \n",
    "                 \"Mauritania\", \"Mauritius\", \"Morocco\", \"Mozambique\", \"Namibia\", \"Niger\", \"Nigeria\", \"Rwanda\", \"Sao Tome and Principe\", \"Senegal\", \"Seychelles\", \n",
    "                 \"Sierra Leone\", \"Somalia\", \"South Africa\", \"South Sudan\", \"Sudan\", \"Swaziland\", \"Tanzania\", \"Togo\", \"Tunisia\", \"Uganda\", \"Zambia\", \"Zimbabwe\")\n",
    "                THEN \"Africa\"\n",
    "            WHEN \"Country Name\" IN \n",
    "                (\"Antigua and Barbuda\", \"Argentina\", \"Bahamas\", \"Barbados\", \"Belize\", \"Bolivia\", \"Brazil\", \"Canada\", \"Chile\", \"Colombia\", \"Costa Rica\", \"Cuba\",\n",
    "                 \"Dominica\", \"Dominican Republic\", \"Ecuador\", \"El Salvador\", \"Grenada\", \"Guatemala\", \"Guyana\", \"Haiti\", \"Honduras\", \"Jamaica\", \"Mexico\", \"Nicaragua\",\n",
    "                 \"Panama\", \"Paraguay\", \"Peru\", \"Saint Kitts and Nevis\", \"Saint Lucia\", \"Saint Vincent and the Grenadines\", \"Suriname\", \"Trinidad and Tobago\", \n",
    "                 \"United States\", \"Uruguay\", \"Venezuela\")\n",
    "                THEN \"America\"\n",
    "            WHEN \"Country Name\" IN \n",
    "                (\"Albania\", \"Andorra\", \"Armenia\", \"Austria\", \"Belarus\", \"Belgium\", \"Bosnia and Herzegovina\", \"Bulgaria\", \"Croatia\", \"Cyprus\", \"Czech Republic\",\n",
    "                 \"Denmark\", \"Estonia\", \"Finland\", \"France\", \"Georgia\", \"Germany\", \"Greece\", \"Hungary\", \"Iceland\", \"Ireland\", \"Italy\", \"Latvia\", \"Liechtenstein\",\n",
    "                 \"Lithuania\", \"Luxembourg\", \"Macedonia\", \"Malta\", \"Moldova\", \"Monaco\", \"Montenegro\", \"Norway\", \"Poland\", \"Portugal\", \"Romania\", \"Russia\", \"San Marino\",\n",
    "                 \"Serbia\", \"Slovakia\", \"Slovenia\", \"Spain\", \"Sweden\", \"Switzerland\", \"The Netherlands\", \"Turkey\", \"Ukraine\", \"United Kingdom\", \"Vatican City\")\n",
    "                THEN \"Europe\"\n",
    "            WHEN \"Country Name\" IN \n",
    "                (\"Afghanistan\", \"Azerbaijan\", \"Bahrain\", \"Bangladesh\", \"Bhutan\", \"Brunei\", \"Cambodia\", \"China\", \"East Timor\", \"India\", \"Indonesia\", \"Iran\", \"Iraq\",\n",
    "                 \"Israel\", \"Japan\", \"Jordan\", \"Kazakhstan\", \"Kuwait\", \"Kyrgyzstan\", \"Laos\", \"Lebanon\", \"Malaysia\", \"Maldives\", \"Mongolia\", \"Myanmar\", \"Nepal\", \n",
    "                 \"North Korea\", \"Oman\", \"Pakistan\", \"Philippines\", \"Qatar\", \"Saudi Arabia\", \"Singapore\", \"South Korea\", \"Sri Lanka\", \"Syria\", \"Tajikistan\", \"Thailand\", \n",
    "                 \"Turkmenistan\", \"United Arab Emirates\", \"Uzbekistan\", \"Vietnam\", \"Yemen\")\n",
    "                THEN \"Asia\"\n",
    "            WHEN \"Country Name\" IN \n",
    "                (\"Australia\", \"Micronesia\", \"Fiji\", \"Kiribati\", \"Marshall Islands\", \"Nauru\", \"New Zeland\", \"Palau\", \"Papua New Guinea\", \n",
    "                 \"Samoa\", \"Solomon Islands\", \"Tonga\", \"Tuvalu\", \"Vanuatu\")\n",
    "                THEN \"Oceania\"\n",
    "        ELSE\n",
    "            \"Alien Country\"\n",
    "        END AS \"Continent\"\n",
    "    FROM df\n",
    "    ;\n",
    "    \"\"\"\n",
    "\n",
    "df = sqldf(q)\n",
    "df"
   ]
  },
  {
   "cell_type": "markdown",
   "id": "9f36d110-a70d-48a2-a122-4b23e477bf3f",
   "metadata": {},
   "source": [
    "### Remove Territories"
   ]
  },
  {
   "cell_type": "code",
   "execution_count": null,
   "id": "77997f23-fd61-419f-b393-6d2bdfdc3e66",
   "metadata": {},
   "outputs": [],
   "source": [
    "q = \"\"\"\n",
    "    SELECT *\n",
    "    FROM df\n",
    "    WHERE \n",
    "        \"Continent\" IS NOT \"Alien Country\"\n",
    "    ;\n",
    "    \"\"\"\n",
    "\n",
    "df = sqldf(q)\n",
    "df"
   ]
  },
  {
   "cell_type": "markdown",
   "id": "28268a99-77ca-486e-bbf2-bc637c281578",
   "metadata": {},
   "source": [
    "### Pull G7 Countries records"
   ]
  },
  {
   "cell_type": "code",
   "execution_count": null,
   "id": "91894e18-47a4-41fd-8fbb-4da2f2c0890c",
   "metadata": {},
   "outputs": [],
   "source": [
    "q = \"\"\"\n",
    "    SELECT *\n",
    "    FROM df\n",
    "    WHERE\n",
    "        \"Indicator Name\" IN (\"Population growth (annual %)\", \"Life expectancy at birth, total (years)\", \"GDP per capita (current US$)\", \n",
    "                            \"Unemployment, total (% of total labor force) (national estimate)\", \"Inflation, consumer prices (annual %)\") AND\n",
    "        \"Country Name\" IN (\"Canada\", \"France\", \"Germany\", \"Italy\", \"Japan\", \"\", \"United Kigndom\", \"United States\")\n",
    "        \n",
    "    ;\n",
    "    \"\"\"\n",
    "\n",
    "g7_popGrowth = sqldf(q)\n",
    "g7_popGrowth.head()"
   ]
  },
  {
   "cell_type": "markdown",
   "id": "34293446-a9d8-4a53-9bd8-9da745842adf",
   "metadata": {},
   "source": [
    "### Prepare the data into a format to be used for creating our dashboard"
   ]
  },
  {
   "cell_type": "code",
   "execution_count": null,
   "id": "ad91d79f-96c3-4c89-af99-ee4d892f157f",
   "metadata": {
    "tags": []
   },
   "outputs": [],
   "source": [
    "def dataframeMelt(dataframe: pd.DataFrame, val_name: str):\n",
    "    \"\"\"Accepts a wide dataframe and transforms it into a longer dataframe.\n",
    "    Args:\n",
    "        dataframe: wide dataframe to be transformed\n",
    "        val_name:  Name of interest (in this case, the Indicator Name).\n",
    "    Returns:\n",
    "        melted (long) dataframe\n",
    "    \n",
    "    \"\"\"\n",
    "    melted_df = pd.melt(dataframe, \n",
    "                        id_vars=[\"Country Name\", \"Continent\"],\n",
    "                        value_vars=[\"2005\", \"2006\", \"2007\", \"2008\", \"2009\", \"2010\", \"2011\", \"2012\", \"2013\", \"2014\", \"2015\", \"2016\", \"2017\", \"2018\", \"2019\", \"2020\"],\n",
    "                       var_name=\"Year\",\n",
    "                       value_name=val_name).rename(columns={\"Country Name\": \"Country\"})\n",
    "\n",
    "    return melted_df\n",
    "\n",
    "### Pull dataframes based on Indicator Name\n",
    "PopGrowth = g7_popGrowth[g7_popGrowth[\"Indicator Name\"] == \"Population growth (annual %)\"]\n",
    "LifeExp = g7_popGrowth[g7_popGrowth[\"Indicator Name\"] == \"Life expectancy at birth, total (years)\"]\n",
    "GDPPerCapita = g7_popGrowth[g7_popGrowth[\"Indicator Name\"] == \"GDP per capita (current US$)\"]\n",
    "Unemploy = g7_popGrowth[g7_popGrowth[\"Indicator Name\"] == \"Unemployment, total (% of total labor force) (national estimate)\"]\n",
    "Inflation = g7_popGrowth[g7_popGrowth[\"Indicator Name\"] == \"Inflation, consumer prices (annual %)\"]\n",
    "\n",
    "### Convert dataframes from wide to long\n",
    "PopGrowth = dataframeMelt(dataframe=PopGrowth, val_name=\"PopGrowth\")\n",
    "GDPPerCapita = dataframeMelt(dataframe=GDPPerCapita, val_name=\"GDPPerCapita\")\n",
    "Unemploy = dataframeMelt(dataframe=Unemploy, val_name=\"Unemploy\")\n",
    "Inflation = dataframeMelt(dataframe=Inflation, val_name=\"Inflation\")\n",
    "LifeExp = dataframeMelt(dataframe=LifeExp, val_name=\"LifeExp\")\n",
    "\n",
    "\n",
    "### Join the dataframes into one\n",
    "wdi_Df = pd.merge(\n",
    "            PopGrowth, GDPPerCapita, on=[\"Country\", \"Continent\", \"Year\"]).merge(\n",
    "            Unemploy, on=[\"Country\", \"Continent\", \"Year\"]).merge(\n",
    "            Inflation, on=[\"Country\", \"Continent\", \"Year\"]).merge(\n",
    "            LifeExp, on=[\"Country\", \"Continent\", \"Year\"])\n",
    "\n",
    "wdi_Df.to_csv(\"g7Countries.csv\", index=False)\n",
    "wdi_Df"
   ]
  },
  {
   "cell_type": "markdown",
   "id": "e14ca7f6-e499-40d7-8817-416fd713abfd",
   "metadata": {},
   "source": [
    "[Link to dashboard of Sample G7 Countries Development Indicators](https://datastudio.google.com/reporting/03376bef-7812-4d98-be89-7d1471cbedce)"
   ]
  },
  {
   "cell_type": "code",
   "execution_count": null,
   "id": "30b24124-82a5-436a-82e7-e021e68a1647",
   "metadata": {},
   "outputs": [],
   "source": []
  }
 ],
 "metadata": {
  "kernelspec": {
   "display_name": "Python 3.9.10 ('base')",
   "language": "python",
   "name": "python3910jvsc74a57bd0ba2fe2fb6f14793b40b5908c6860b8f79d7c3ac127e1ca483dad5b031f916b50"
  },
  "language_info": {
   "codemirror_mode": {
    "name": "ipython",
    "version": 3
   },
   "file_extension": ".py",
   "mimetype": "text/x-python",
   "name": "python",
   "nbconvert_exporter": "python",
   "pygments_lexer": "ipython3",
   "version": "3.9.12"
  }
 },
 "nbformat": 4,
 "nbformat_minor": 5
}
